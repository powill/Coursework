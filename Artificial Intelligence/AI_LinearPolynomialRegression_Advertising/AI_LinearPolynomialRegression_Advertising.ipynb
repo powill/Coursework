{
 "cells": [
  {
   "cell_type": "markdown",
   "metadata": {},
   "source": [
    "# Linear Regression and Polynomial Regression"
   ]
  },
  {
   "cell_type": "markdown",
   "metadata": {},
   "source": [
    "#### *advertising.csv* dataset"
   ]
  },
  {
   "cell_type": "code",
   "execution_count": 64,
   "metadata": {},
   "outputs": [],
   "source": [
    "#This homework assignment will build three models on the advertising data and evaluate their performance. \n",
    "# You can use tools from sklearn to complete this task."
   ]
  },
  {
   "cell_type": "code",
   "execution_count": 65,
   "metadata": {},
   "outputs": [],
   "source": [
    "# Source of data: https://www.statlearning.com/s/Advertising.csv"
   ]
  },
  {
   "cell_type": "code",
   "execution_count": 66,
   "metadata": {},
   "outputs": [],
   "source": [
    "import numpy as np\n",
    "import pandas as pd\n",
    "import matplotlib.pyplot as plt\n",
    "%matplotlib inline"
   ]
  },
  {
   "cell_type": "code",
   "execution_count": 67,
   "metadata": {},
   "outputs": [
    {
     "data": {
      "text/html": [
       "<div>\n",
       "<style scoped>\n",
       "    .dataframe tbody tr th:only-of-type {\n",
       "        vertical-align: middle;\n",
       "    }\n",
       "\n",
       "    .dataframe tbody tr th {\n",
       "        vertical-align: top;\n",
       "    }\n",
       "\n",
       "    .dataframe thead th {\n",
       "        text-align: right;\n",
       "    }\n",
       "</style>\n",
       "<table border=\"1\" class=\"dataframe\">\n",
       "  <thead>\n",
       "    <tr style=\"text-align: right;\">\n",
       "      <th></th>\n",
       "      <th>TV</th>\n",
       "      <th>radio</th>\n",
       "      <th>newspaper</th>\n",
       "      <th>sales</th>\n",
       "    </tr>\n",
       "  </thead>\n",
       "  <tbody>\n",
       "    <tr>\n",
       "      <th>1</th>\n",
       "      <td>230.1</td>\n",
       "      <td>37.8</td>\n",
       "      <td>69.2</td>\n",
       "      <td>22.1</td>\n",
       "    </tr>\n",
       "    <tr>\n",
       "      <th>2</th>\n",
       "      <td>44.5</td>\n",
       "      <td>39.3</td>\n",
       "      <td>45.1</td>\n",
       "      <td>10.4</td>\n",
       "    </tr>\n",
       "    <tr>\n",
       "      <th>3</th>\n",
       "      <td>17.2</td>\n",
       "      <td>45.9</td>\n",
       "      <td>69.3</td>\n",
       "      <td>9.3</td>\n",
       "    </tr>\n",
       "    <tr>\n",
       "      <th>4</th>\n",
       "      <td>151.5</td>\n",
       "      <td>41.3</td>\n",
       "      <td>58.5</td>\n",
       "      <td>18.5</td>\n",
       "    </tr>\n",
       "    <tr>\n",
       "      <th>5</th>\n",
       "      <td>180.8</td>\n",
       "      <td>10.8</td>\n",
       "      <td>58.4</td>\n",
       "      <td>12.9</td>\n",
       "    </tr>\n",
       "  </tbody>\n",
       "</table>\n",
       "</div>"
      ],
      "text/plain": [
       "      TV  radio  newspaper  sales\n",
       "1  230.1   37.8       69.2   22.1\n",
       "2   44.5   39.3       45.1   10.4\n",
       "3   17.2   45.9       69.3    9.3\n",
       "4  151.5   41.3       58.5   18.5\n",
       "5  180.8   10.8       58.4   12.9"
      ]
     },
     "execution_count": 67,
     "metadata": {},
     "output_type": "execute_result"
    }
   ],
   "source": [
    "url = \"https://www.statlearning.com/s/Advertising.csv\"\n",
    "advertising = pd.read_csv(url, index_col=0)\n",
    "advertising.head()"
   ]
  },
  {
   "cell_type": "code",
   "execution_count": 68,
   "metadata": {},
   "outputs": [
    {
     "data": {
      "image/png": "[encoded data removed]",
      "text/plain": [
       "<Figure size 720x720 with 4 Axes>"
      ]
     },
     "metadata": {
      "needs_background": "light"
     },
     "output_type": "display_data"
    }
   ],
   "source": [
    "fig = advertising.hist(figsize=(10, 10))"
   ]
  },
  {
   "cell_type": "code",
   "execution_count": 70,
   "metadata": {},
   "outputs": [],
   "source": [
    "# 1. Use train_test_split to split the data into training set (80%) and test set (20%)."
   ]
  },
  {
   "cell_type": "code",
   "execution_count": 71,
   "metadata": {},
   "outputs": [],
   "source": [
    "from sklearn.model_selection import train_test_split\n",
    "training_data, test_data = train_test_split(advertising, test_size=0.2)"
   ]
  },
  {
   "cell_type": "code",
   "execution_count": 72,
   "metadata": {},
   "outputs": [],
   "source": [
    "# 2. Build a multilinear regression model with 'TV', 'Radio', and 'newspaper' as input variables and 'sales' as output variable.\n",
    "#    Name the model model_lr. Train the model on the training set and obtain model predictions on the test set."
   ]
  },
  {
   "cell_type": "code",
   "execution_count": 73,
   "metadata": {},
   "outputs": [
    {
     "data": {
      "text/plain": [
       "LinearRegression()"
      ]
     },
     "execution_count": 73,
     "metadata": {},
     "output_type": "execute_result"
    }
   ],
   "source": [
    "from sklearn.linear_model import LinearRegression\n",
    "\n",
    "input_cols = [\"TV\", \"radio\", \"newspaper\"]\n",
    "\n",
    "model_lr = LinearRegression()\n",
    "\n",
    "model_lr.fit(training_data[input_cols], training_data[[\"sales\"]]) "
   ]
  },
  {
   "cell_type": "code",
   "execution_count": 74,
   "metadata": {},
   "outputs": [
    {
     "name": "stdout",
     "output_type": "stream",
     "text": [
      "Theta 0: [3.05160587]\n",
      "Theta 1 and Theta 2: [[0.04433515 0.18756515 0.00377706]]\n"
     ]
    }
   ],
   "source": [
    "print(\"Theta 0:\", model_lr.intercept_)\n",
    "print(\"Theta 1 and Theta 2:\", model_lr.coef_)"
   ]
  },
  {
   "cell_type": "code",
   "execution_count": 75,
   "metadata": {},
   "outputs": [
    {
     "name": "stderr",
     "output_type": "stream",
     "text": [
      "<ipython-input-75-e7ad3988c0ee>:2: SettingWithCopyWarning: \n",
      "A value is trying to be set on a copy of a slice from a DataFrame.\n",
      "Try using .loc[row_indexer,col_indexer] = value instead\n",
      "\n",
      "See the caveats in the documentation: https://pandas.pydata.org/pandas-docs/stable/user_guide/indexing.html#returning-a-view-versus-a-copy\n",
      "  test_data['prediction'] = model_lr.predict(test_data[input_cols])\n"
     ]
    },
    {
     "data": {
      "text/html": [
       "<div>\n",
       "<style scoped>\n",
       "    .dataframe tbody tr th:only-of-type {\n",
       "        vertical-align: middle;\n",
       "    }\n",
       "\n",
       "    .dataframe tbody tr th {\n",
       "        vertical-align: top;\n",
       "    }\n",
       "\n",
       "    .dataframe thead th {\n",
       "        text-align: right;\n",
       "    }\n",
       "</style>\n",
       "<table border=\"1\" class=\"dataframe\">\n",
       "  <thead>\n",
       "    <tr style=\"text-align: right;\">\n",
       "      <th></th>\n",
       "      <th>TV</th>\n",
       "      <th>radio</th>\n",
       "      <th>newspaper</th>\n",
       "      <th>sales</th>\n",
       "      <th>prediction</th>\n",
       "    </tr>\n",
       "  </thead>\n",
       "  <tbody>\n",
       "    <tr>\n",
       "      <th>4</th>\n",
       "      <td>151.5</td>\n",
       "      <td>41.3</td>\n",
       "      <td>58.5</td>\n",
       "      <td>18.5</td>\n",
       "      <td>17.735780</td>\n",
       "    </tr>\n",
       "    <tr>\n",
       "      <th>116</th>\n",
       "      <td>75.1</td>\n",
       "      <td>35.0</td>\n",
       "      <td>52.7</td>\n",
       "      <td>12.6</td>\n",
       "      <td>13.145007</td>\n",
       "    </tr>\n",
       "    <tr>\n",
       "      <th>111</th>\n",
       "      <td>225.8</td>\n",
       "      <td>8.2</td>\n",
       "      <td>56.5</td>\n",
       "      <td>13.4</td>\n",
       "      <td>14.813921</td>\n",
       "    </tr>\n",
       "    <tr>\n",
       "      <th>50</th>\n",
       "      <td>66.9</td>\n",
       "      <td>11.7</td>\n",
       "      <td>36.8</td>\n",
       "      <td>9.7</td>\n",
       "      <td>8.351136</td>\n",
       "    </tr>\n",
       "    <tr>\n",
       "      <th>43</th>\n",
       "      <td>293.6</td>\n",
       "      <td>27.7</td>\n",
       "      <td>1.8</td>\n",
       "      <td>20.7</td>\n",
       "      <td>21.270760</td>\n",
       "    </tr>\n",
       "  </tbody>\n",
       "</table>\n",
       "</div>"
      ],
      "text/plain": [
       "        TV  radio  newspaper  sales  prediction\n",
       "4    151.5   41.3       58.5   18.5   17.735780\n",
       "116   75.1   35.0       52.7   12.6   13.145007\n",
       "111  225.8    8.2       56.5   13.4   14.813921\n",
       "50    66.9   11.7       36.8    9.7    8.351136\n",
       "43   293.6   27.7        1.8   20.7   21.270760"
      ]
     },
     "execution_count": 75,
     "metadata": {},
     "output_type": "execute_result"
    }
   ],
   "source": [
    "# Apply the model to provide prediction for Fred\n",
    "test_data['prediction'] = model_lr.predict(test_data[input_cols])\n",
    "test_data.head()"
   ]
  },
  {
   "cell_type": "code",
   "execution_count": 76,
   "metadata": {},
   "outputs": [],
   "source": [
    "# 3. Build a degree 2 polynomial regression model with 'TV', 'Radio', and 'newspaper' as input variables and 'sales' as output\n",
    "#    variable. Name the model model_pr2. Train the model on the training set and obtain model predictions on the test set."
   ]
  },
  {
   "cell_type": "code",
   "execution_count": 77,
   "metadata": {},
   "outputs": [
    {
     "data": {
      "text/plain": [
       "[<matplotlib.lines.Line2D at 0x20b8230e790>,\n",
       " <matplotlib.lines.Line2D at 0x20b822f8ca0>,\n",
       " <matplotlib.lines.Line2D at 0x20b81dca850>]"
      ]
     },
     "execution_count": 77,
     "metadata": {},
     "output_type": "execute_result"
    },
    {
     "data": {
      "image/png": "[encoded data removed]",
      "text/plain": [
       "<Figure size 432x288 with 1 Axes>"
      ]
     },
     "metadata": {
      "needs_background": "light"
     },
     "output_type": "display_data"
    }
   ],
   "source": [
    "plt.plot(training_data[input_cols], training_data[[\"sales\"]], 'c.')"
   ]
  },
  {
   "cell_type": "code",
   "execution_count": 78,
   "metadata": {},
   "outputs": [],
   "source": [
    "from sklearn.preprocessing import PolynomialFeatures\n",
    "from sklearn.metrics import mean_squared_error"
   ]
  },
  {
   "cell_type": "code",
   "execution_count": 79,
   "metadata": {},
   "outputs": [
    {
     "name": "stdout",
     "output_type": "stream",
     "text": [
      "[[ 5.32278711e-02  1.78455281e-02  7.43722216e-03 -1.14095146e-04\n",
      "   1.08414685e-03 -4.10616973e-05  2.34166811e-04  1.46414767e-04\n",
      "  -1.48051247e-05]] [4.96976907]\n"
     ]
    }
   ],
   "source": [
    "poly_features1 = PolynomialFeatures(degree=2, include_bias=False)\n",
    "poly_features1.fit(training_data[input_cols])\n",
    "X_poly = poly_features1.transform(training_data[input_cols])\n",
    "model_pr2 = LinearRegression()\n",
    "model_pr2.fit(X_poly, training_data[[\"sales\"]])\n",
    "print(model_pr2.coef_, model_pr2.intercept_)"
   ]
  },
  {
   "cell_type": "code",
   "execution_count": 80,
   "metadata": {},
   "outputs": [
    {
     "name": "stderr",
     "output_type": "stream",
     "text": [
      "<ipython-input-80-9a3ef5a268e1>:1: SettingWithCopyWarning: \n",
      "A value is trying to be set on a copy of a slice from a DataFrame.\n",
      "Try using .loc[row_indexer,col_indexer] = value instead\n",
      "\n",
      "See the caveats in the documentation: https://pandas.pydata.org/pandas-docs/stable/user_guide/indexing.html#returning-a-view-versus-a-copy\n",
      "  test_data['prediction'] = model_pr2.predict(poly_features1.transform(test_data[input_cols]))\n"
     ]
    },
    {
     "data": {
      "text/html": [
       "<div>\n",
       "<style scoped>\n",
       "    .dataframe tbody tr th:only-of-type {\n",
       "        vertical-align: middle;\n",
       "    }\n",
       "\n",
       "    .dataframe tbody tr th {\n",
       "        vertical-align: top;\n",
       "    }\n",
       "\n",
       "    .dataframe thead th {\n",
       "        text-align: right;\n",
       "    }\n",
       "</style>\n",
       "<table border=\"1\" class=\"dataframe\">\n",
       "  <thead>\n",
       "    <tr style=\"text-align: right;\">\n",
       "      <th></th>\n",
       "      <th>TV</th>\n",
       "      <th>radio</th>\n",
       "      <th>newspaper</th>\n",
       "      <th>sales</th>\n",
       "      <th>prediction</th>\n",
       "    </tr>\n",
       "  </thead>\n",
       "  <tbody>\n",
       "    <tr>\n",
       "      <th>4</th>\n",
       "      <td>151.5</td>\n",
       "      <td>41.3</td>\n",
       "      <td>58.5</td>\n",
       "      <td>18.5</td>\n",
       "      <td>18.709177</td>\n",
       "    </tr>\n",
       "    <tr>\n",
       "      <th>116</th>\n",
       "      <td>75.1</td>\n",
       "      <td>35.0</td>\n",
       "      <td>52.7</td>\n",
       "      <td>12.6</td>\n",
       "      <td>12.543185</td>\n",
       "    </tr>\n",
       "    <tr>\n",
       "      <th>111</th>\n",
       "      <td>225.8</td>\n",
       "      <td>8.2</td>\n",
       "      <td>56.5</td>\n",
       "      <td>13.4</td>\n",
       "      <td>13.257773</td>\n",
       "    </tr>\n",
       "    <tr>\n",
       "      <th>50</th>\n",
       "      <td>66.9</td>\n",
       "      <td>11.7</td>\n",
       "      <td>36.8</td>\n",
       "      <td>9.7</td>\n",
       "      <td>9.325100</td>\n",
       "    </tr>\n",
       "    <tr>\n",
       "      <th>43</th>\n",
       "      <td>293.6</td>\n",
       "      <td>27.7</td>\n",
       "      <td>1.8</td>\n",
       "      <td>20.7</td>\n",
       "      <td>20.252358</td>\n",
       "    </tr>\n",
       "  </tbody>\n",
       "</table>\n",
       "</div>"
      ],
      "text/plain": [
       "        TV  radio  newspaper  sales  prediction\n",
       "4    151.5   41.3       58.5   18.5   18.709177\n",
       "116   75.1   35.0       52.7   12.6   12.543185\n",
       "111  225.8    8.2       56.5   13.4   13.257773\n",
       "50    66.9   11.7       36.8    9.7    9.325100\n",
       "43   293.6   27.7        1.8   20.7   20.252358"
      ]
     },
     "execution_count": 80,
     "metadata": {},
     "output_type": "execute_result"
    }
   ],
   "source": [
    "test_data['prediction'] = model_pr2.predict(poly_features1.transform(test_data[input_cols]))\n",
    "test_data.head()"
   ]
  },
  {
   "cell_type": "code",
   "execution_count": 81,
   "metadata": {},
   "outputs": [],
   "source": [
    "# 4. Build a degree 10 polynomial regression model with 'TV', 'Radio', and 'newspaper' as input variables and 'sales' as output\n",
    "#    variable. Name the model model_pr10. Train the model on the training set and obtain model predictions on the test set."
   ]
  },
  {
   "cell_type": "code",
   "execution_count": 82,
   "metadata": {},
   "outputs": [
    {
     "name": "stdout",
     "output_type": "stream",
     "text": [
      "[[-1.28302772e-11 -2.61106918e-12 -8.77039934e-15 -1.96511563e-12\n",
      "  -1.77388844e-12 -4.25891863e-13  4.40735845e-13 -5.45499944e-15\n",
      "  -1.38408910e-16  6.12339983e-15 -2.09590009e-15  1.92845818e-16\n",
      "  -2.02813873e-16  1.17794660e-16 -3.94290478e-15 -4.30489879e-16\n",
      "   9.25127744e-16 -1.84336395e-17  8.74180465e-17  1.37511043e-13\n",
      "   5.73468147e-14  1.19678698e-13  1.42308142e-14  1.30669126e-14\n",
      "   2.23147767e-14  3.16115594e-15  4.23236944e-15  2.06927823e-15\n",
      "   1.03897697e-15  1.01849524e-15  1.33378281e-15  1.22314802e-15\n",
      "   3.47031128e-16 -1.56296595e-15  3.78403969e-12  2.64688114e-12\n",
      "   4.77625922e-12  6.17126263e-13  4.90537366e-13  8.72939943e-13\n",
      "   1.28683397e-13  1.82768002e-13  4.76134446e-14  7.47081072e-15\n",
      "   3.22871491e-14  4.55969974e-14  3.90985658e-14 -1.44680605e-14\n",
      "  -9.03732076e-14  1.43652067e-14  1.62229695e-14  1.51282114e-14\n",
      "   1.00877475e-14 -9.16558005e-15 -5.81712990e-14  4.44951183e-11\n",
      "   7.73500120e-11  1.17495996e-10  1.73285463e-11  1.08780760e-11\n",
      "   2.14597012e-11  3.67363523e-12  6.99407872e-12  8.47776572e-13\n",
      "  -8.70030717e-13  9.66182842e-13  1.72398564e-12  1.58552046e-12\n",
      "  -8.10133787e-13 -3.77790350e-12  3.24061323e-13  4.09528531e-13\n",
      "   4.18731387e-13  1.86972887e-13 -7.58669871e-13 -2.49718941e-12\n",
      "   2.09496094e-13  2.01376660e-13  1.69771479e-13  1.00846253e-13\n",
      "  -7.35160866e-16 -2.97716854e-13 -1.19696968e-12 -8.03547747e-13\n",
      "  -7.99953196e-14 -4.88701578e-12  6.17408768e-12 -6.01771554e-11\n",
      "   2.95622436e-11  1.87398722e-11  1.79736580e-10  3.03998997e-11\n",
      "  -1.46470904e-11  1.48109986e-11  4.94299338e-11  5.88934287e-11\n",
      "   7.26859264e-13 -7.06118201e-11  6.40819405e-12  1.05077516e-11\n",
      "   1.53695089e-11  1.06258987e-11 -1.52163851e-11 -5.91292225e-11\n",
      "   3.72680947e-12  2.73948741e-12  3.31266873e-12  1.66976407e-12\n",
      "  -1.64426430e-12 -1.15531092e-11 -3.20212506e-11  3.11730922e-12\n",
      "   2.55501702e-12  1.93639149e-12  8.49808493e-13 -5.59494514e-13\n",
      "  -1.39423820e-12 -3.31174066e-12 -1.38115866e-11  5.83745686e-15\n",
      "  -1.46635175e-15  3.44930349e-14 -1.31950472e-13  7.07065062e-13\n",
      "  -8.44228369e-14 -3.00266349e-12  1.59746080e-12  8.85579990e-13\n",
      "  -3.10427126e-12  2.16566951e-11  8.97738120e-12 -5.24502237e-11\n",
      "   8.50555115e-12  1.18446940e-11 -8.66185966e-11 -4.34394509e-11\n",
      "   1.28167874e-10  2.37906308e-11 -1.83945061e-11  1.58129707e-12\n",
      "   1.47343043e-11 -3.61145603e-11  4.91797729e-11  2.65330097e-11\n",
      "  -1.02526056e-11 -2.64367826e-11 -2.28012093e-11  3.92582925e-11\n",
      "   1.66330895e-12  1.12037513e-11  2.65856899e-12 -2.45973284e-11\n",
      "  -2.45086682e-11 -1.11075226e-11  9.94343406e-13  3.53229226e-11\n",
      "   2.75814806e-11  1.89284589e-11  7.65813453e-12 -5.83759265e-12\n",
      "  -2.03611382e-11 -6.05883753e-12  3.43578337e-11  7.00850730e-12\n",
      "  -1.78087444e-17  5.76167748e-17 -2.41616319e-16  1.49182425e-16\n",
      "  -5.49981178e-15  4.71740701e-15  2.71764702e-15  4.53353320e-14\n",
      "  -2.22820207e-15 -4.70205173e-14  2.03627957e-13 -4.97409773e-13\n",
      "  -3.30591289e-13  4.04806690e-13  3.08063707e-13 -1.74702746e-12\n",
      "   3.03027567e-12 -9.75194954e-13  6.42101298e-12 -6.37442605e-12\n",
      "  -2.74423013e-13  1.20381040e-12  2.18976186e-11 -6.37529773e-11\n",
      "   5.16591789e-11 -4.24384857e-11  3.26550670e-11 -4.38257341e-12\n",
      "   6.68581140e-12 -5.96586997e-11  9.33526848e-11  6.19826794e-11\n",
      "  -1.05216449e-10  5.21972645e-11 -4.16829462e-11  9.10328273e-12\n",
      "   4.46379778e-11 -4.81575866e-11 -2.00196829e-11 -7.35696424e-11\n",
      "   2.17405060e-11 -3.46826220e-11  1.13008264e-10 -4.35778502e-11\n",
      "   4.41223376e-12 -5.71624479e-11  7.32759799e-11  1.53968543e-11\n",
      "  -3.53452195e-11  2.87406727e-11  8.15536817e-11 -6.97810544e-11\n",
      "  -5.23287117e-11  4.62164590e-11 -8.36444666e-12  1.73087931e-20\n",
      "  -1.69970883e-19  6.68434783e-19 -3.94283302e-18  1.96490373e-17\n",
      "  -1.94525182e-17  1.65708255e-16 -2.11207194e-16 -1.85427156e-16\n",
      "   2.75486014e-16 -2.62849711e-15  2.37307299e-16  3.43202959e-15\n",
      "   7.61383634e-16 -2.27160254e-15  1.80612807e-14  8.53953243e-15\n",
      "   2.23090634e-15 -4.03271801e-14  6.06551473e-15  9.84964350e-15\n",
      "  -4.83375372e-14 -2.31082447e-13  3.21940089e-13 -3.60130700e-13\n",
      "   3.88861122e-13 -9.00325220e-14 -2.36558923e-14  1.06105862e-13\n",
      "   5.72335709e-13  2.51362798e-13 -1.52922844e-12  2.46157994e-12\n",
      "  -2.23558813e-12  6.02898610e-13  1.64718885e-14 -3.34989299e-13\n",
      "   1.73008236e-12 -9.75693050e-12  1.38612710e-11 -7.66438785e-12\n",
      "  -2.82228546e-12  6.46896705e-12 -2.47471197e-12  1.94610829e-13\n",
      "  -6.70289569e-14 -8.82684782e-12  3.50862468e-11 -4.22168660e-11\n",
      "   1.88592654e-11 -6.32697044e-13  5.69613803e-12 -1.08895035e-11\n",
      "   4.94037583e-12 -6.30266726e-13  8.18791780e-13  2.01099087e-12\n",
      "  -1.94017202e-12 -2.69589874e-11  5.96026135e-11 -5.25184038e-11\n",
      "   2.29056587e-11 -8.72021231e-12  6.54607389e-12 -2.96220238e-12\n",
      "   4.34649277e-13]] [6.32037303]\n"
     ]
    }
   ],
   "source": [
    "poly_features2 = PolynomialFeatures(degree=10, include_bias=False)\n",
    "poly_features2.fit(training_data[input_cols])\n",
    "X_poly = poly_features2.fit_transform(training_data[input_cols])\n",
    "model_pr10 = LinearRegression()\n",
    "model_pr10.fit(X_poly, training_data[[\"sales\"]])\n",
    "print(model_pr10.coef_, model_pr10.intercept_)"
   ]
  },
  {
   "cell_type": "code",
   "execution_count": 83,
   "metadata": {},
   "outputs": [
    {
     "name": "stderr",
     "output_type": "stream",
     "text": [
      "<ipython-input-83-72c594bb49bf>:1: SettingWithCopyWarning: \n",
      "A value is trying to be set on a copy of a slice from a DataFrame.\n",
      "Try using .loc[row_indexer,col_indexer] = value instead\n",
      "\n",
      "See the caveats in the documentation: https://pandas.pydata.org/pandas-docs/stable/user_guide/indexing.html#returning-a-view-versus-a-copy\n",
      "  test_data['prediction'] = model_pr10.predict(poly_features2.transform(test_data[input_cols]))\n"
     ]
    },
    {
     "data": {
      "text/html": [
       "<div>\n",
       "<style scoped>\n",
       "    .dataframe tbody tr th:only-of-type {\n",
       "        vertical-align: middle;\n",
       "    }\n",
       "\n",
       "    .dataframe tbody tr th {\n",
       "        vertical-align: top;\n",
       "    }\n",
       "\n",
       "    .dataframe thead th {\n",
       "        text-align: right;\n",
       "    }\n",
       "</style>\n",
       "<table border=\"1\" class=\"dataframe\">\n",
       "  <thead>\n",
       "    <tr style=\"text-align: right;\">\n",
       "      <th></th>\n",
       "      <th>TV</th>\n",
       "      <th>radio</th>\n",
       "      <th>newspaper</th>\n",
       "      <th>sales</th>\n",
       "      <th>prediction</th>\n",
       "    </tr>\n",
       "  </thead>\n",
       "  <tbody>\n",
       "    <tr>\n",
       "      <th>4</th>\n",
       "      <td>151.5</td>\n",
       "      <td>41.3</td>\n",
       "      <td>58.5</td>\n",
       "      <td>18.5</td>\n",
       "      <td>120.766561</td>\n",
       "    </tr>\n",
       "    <tr>\n",
       "      <th>116</th>\n",
       "      <td>75.1</td>\n",
       "      <td>35.0</td>\n",
       "      <td>52.7</td>\n",
       "      <td>12.6</td>\n",
       "      <td>-95.965861</td>\n",
       "    </tr>\n",
       "    <tr>\n",
       "      <th>111</th>\n",
       "      <td>225.8</td>\n",
       "      <td>8.2</td>\n",
       "      <td>56.5</td>\n",
       "      <td>13.4</td>\n",
       "      <td>3609.798300</td>\n",
       "    </tr>\n",
       "    <tr>\n",
       "      <th>50</th>\n",
       "      <td>66.9</td>\n",
       "      <td>11.7</td>\n",
       "      <td>36.8</td>\n",
       "      <td>9.7</td>\n",
       "      <td>4.738585</td>\n",
       "    </tr>\n",
       "    <tr>\n",
       "      <th>43</th>\n",
       "      <td>293.6</td>\n",
       "      <td>27.7</td>\n",
       "      <td>1.8</td>\n",
       "      <td>20.7</td>\n",
       "      <td>8632.023631</td>\n",
       "    </tr>\n",
       "  </tbody>\n",
       "</table>\n",
       "</div>"
      ],
      "text/plain": [
       "        TV  radio  newspaper  sales   prediction\n",
       "4    151.5   41.3       58.5   18.5   120.766561\n",
       "116   75.1   35.0       52.7   12.6   -95.965861\n",
       "111  225.8    8.2       56.5   13.4  3609.798300\n",
       "50    66.9   11.7       36.8    9.7     4.738585\n",
       "43   293.6   27.7        1.8   20.7  8632.023631"
      ]
     },
     "execution_count": 83,
     "metadata": {},
     "output_type": "execute_result"
    }
   ],
   "source": [
    "test_data['prediction'] = model_pr10.predict(poly_features2.transform(test_data[input_cols]))\n",
    "test_data.head()"
   ]
  },
  {
   "cell_type": "code",
   "execution_count": 84,
   "metadata": {},
   "outputs": [],
   "source": [
    "# 5. Calculate the test MSE of each model using the mean_squared_error function. Which model gives the best MSE?"
   ]
  },
  {
   "cell_type": "code",
   "execution_count": 85,
   "metadata": {},
   "outputs": [
    {
     "name": "stdout",
     "output_type": "stream",
     "text": [
      "[2.273008522500005, 4.6764062499999985, 11.429876256100002, 0.5969416643999997, 0.16257024, 32.35505042249999, 0.0015272463999998788, 1.2180653955999992, 0.940434457599999, 3.4929367236000077, 2.0809505024999995, 0.10239360009999815, 3.0085943209000043, 0.768690562499996, 0.3186941209000015, 2.396087284900003, 0.7108176099999995, 1.5549092416000034, 1.6111986489, 0.21967969000000012, 0.014597472400000465, 4.461093136900002, 1.4465353984000007, 0.8698733289000031, 2.122965561599998, 11.743095312399996, 0.005569636899999864, 1.0113922623999998, 0.11705293690000307, 1.3648314276000002, 0.00921408010000009, 0.19348561690000077, 3.4226480016, 1.3707492241000088, 3.6820620769000003, 15.446629248399988, 5.241123422499995, 1.204155075600002, 7.83999999990377e-08, 1.3388341264000012, 0.07686756249999926, 0.04069499289999909, 0.31501278760000084, 0.981664824100001, 0.41610240359999884, 0.0605553663999996, 2.513366329599999, 2.7788223203999958, 2.147016172900001, 1.8323683225, 1.4697197824000046, 1.9221049599999953, 3.9698171536000078, 1.3804135081000013, 0.002408846400000001, 5.5116483361, 10.888218072900003, 0.20376195999999963, 3.8632295600999935, 0.19871980839999925, 4.946042560899998, 1.8493280099999991, 0.9242899600000022, 0.6638175625000001, 1.0089398916000034, 2.084240816100003, 0.18477102250000005, 2.0148950809000015, 0.017392334399999706, 1.710550094400002, 0.2965020304000023, 2.8368328041000024, 2.8935711024999953, 1.0626517225000018, 0.02844282249999984, 13.170874888900014, 5.077811560000001, 0.1690114321000006, 13.212061825599998, 1.6374017520999997, 0.07422900249999956, 5.200360984900004, 0.968413446400001, 0.9247514896000018, 0.9969822801000007, 0.011085984100000022, 0.12257701210000056, 0.037632120099999784, 0.7767425689000003, 0.13927824000000047, 1.5506724676, 6.645671526399998, 0.040557932099999985, 0.8438627044000012, 1.0482688225000025, 0.24041370239999704, 0.6142013641000016, 0.05585186889999944, 1.9314606528999962, 0.027652364100000017, 4.817410419600009, 0.18893800890000356, 6.961154559999986, 0.000990990400000011, 0.411971422500002, 1.2465499201000054, 0.7524001080999992, 2.254682433599999, 2.244932856099999, 0.13497541210000025, 1.9653516481000024, 0.683019602500002, 0.13466698090000018, 0.11630146090000118, 0.6776417760999975, 0.2910818303999995, 0.04179571359999998, 7.612301721599999, 0.004148648100000068, 0.1561277169, 0.9804762361000002, 1.3037985856000005, 3.5447852176000043, 0.02503673289999989, 0.021765100899999917, 1.893183364900001, 18.335524, 4.672082250000004, 7.2085269169, 2.5518465024999952, 79.99084293760002, 7.857369610000004, 8.032746324099998, 0.1294488441000002, 1.8778591225000005, 5.9533072036, 4.147291520100002, 0.0003625216000000148, 0.08479161610000016, 1.4771971599999973, 1.8491920224999994, 0.41825969290000203, 0.8311968899999995, 2.3043847204, 1.3603256689000007, 0.41392495690000114, 3.570966089999998, 4.920987988900007, 2.0716132760999972, 0.023070572099999957, 4.541800322499992, 2.0508244849000037, 0.13771521000000148, 0.5969107599999954, 0.05538962249999935, 4.9750410304, 0.06698779239999911, 0.006157540899999901, 11.286844968099986, 0.18855569290000107, 0.039006249999999916, 0.1994515599999985, 0.0001439999999999683, 0.5995250041000009, 0.772183987600001, 6.207821402499992, 8.869973062499994, 1.123896819600005, 0.018036489999999905, 7.0667183888999965, 0.7906055056000006, 0.004202928900000079, 0.02357453160000014, 0.036496281600000374, 4.369061452900008, 5.538632764900014, 0.16293332249999914, 0.2352056004000002, 16.229456816399985, 0.07354944000000017, 5.550250000000597e-05, 2.707900624899998, 3.9185390208999946, 4.306704067599986, 0.6429153123999989, 3.738886304399991, 0.3319718688999993, 0.10970006410000148, 5.966929852899996, 0.21478590250000074, 3.0042248928999973, 2.1183929209000003, 1.4408641296000018, 1.6043768896000061, 0.8389277649000055, 4.4561521216000015, 2.329072776899995, 0.01930432360000045, 3.1003462084000017, 2.493809472399997]\n",
      "MSE: 2.8087825949885\n"
     ]
    }
   ],
   "source": [
    "theta = np.array([3.0516, 0.0443, 0.1876, 0.0037])\n",
    "\n",
    "list_errors = []\n",
    "\n",
    "for i in advertising.index:\n",
    "    x = np.array([1, advertising.loc[i, \"TV\"], advertising.loc[i, \"radio\"], advertising.loc[i, \"newspaper\"]])\n",
    "    theta_dot_x = theta.dot(x)\n",
    "    y = advertising.loc[i, \"sales\"]\n",
    "    squared_error = (theta_dot_x - y) ** 2\n",
    "    list_errors.append(squared_error)\n",
    "\n",
    "print(list_errors)\n",
    "print(\"MSE:\", np.mean(list_errors))"
   ]
  },
  {
   "cell_type": "code",
   "execution_count": 86,
   "metadata": {},
   "outputs": [
    {
     "name": "stdout",
     "output_type": "stream",
     "text": [
      "MSE for degree-2 polynomial regression: 0.314841506113779\n"
     ]
    }
   ],
   "source": [
    "predictions_pr2 = model_pr2.predict(poly_features1.transform(test_data[input_cols]))\n",
    "MSE_pr2 = mean_squared_error(test_data[[\"sales\"]], predictions_pr2)\n",
    "print(\"MSE for degree-2 polynomial regression:\", MSE_pr2)"
   ]
  },
  {
   "cell_type": "code",
   "execution_count": 87,
   "metadata": {},
   "outputs": [
    {
     "name": "stdout",
     "output_type": "stream",
     "text": [
      "MSE: 324145196.6540297\n"
     ]
    }
   ],
   "source": [
    "predictions_pr10 = model_pr10.predict(poly_features2.transform(test_data[input_cols]))\n",
    "mse = mean_squared_error(test_data[[\"sales\"]], predictions_pr10)\n",
    "print(\"MSE:\", mse)"
   ]
  },
  {
   "cell_type": "code",
   "execution_count": 88,
   "metadata": {},
   "outputs": [
    {
     "name": "stdout",
     "output_type": "stream",
     "text": [
      "model_pr2 has the best MSE (0.3148)\n"
     ]
    }
   ],
   "source": [
    "print(\"model_pr2 has the best MSE (0.3148)\")"
   ]
  },
  {
   "cell_type": "code",
   "execution_count": null,
   "metadata": {},
   "outputs": [],
   "source": []
  }
 ],
 "metadata": {
  "kernelspec": {
   "display_name": "Python 3 (ipykernel)",
   "language": "python",
   "name": "python3"
  },
  "language_info": {
   "codemirror_mode": {
    "name": "ipython",
    "version": 3
   },
   "file_extension": ".py",
   "mimetype": "text/x-python",
   "name": "python",
   "nbconvert_exporter": "python",
   "pygments_lexer": "ipython3",
   "version": "3.9.12"
  }
 },
 "nbformat": 4,
 "nbformat_minor": 4
}
