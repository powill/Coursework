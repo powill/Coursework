{
 "cells": [
  {
   "cell_type": "markdown",
   "metadata": {},
   "source": [
    "# Artificial Intelligence Midterm Project\n",
    "\n",
    "In this project, you will build a regression model and a classification model from scratch. Please follow the instructions closely, and only use Python's Numpy, Pandas, and matplotlib library to complete this project. Using functions from `sklearn` is not allowed.\n",
    "\n",
    "**Part I** dues on Monday, March 22nd at 11:59 PM.\n",
    "**Part II** dues on Monday, April 12th at 11:59 PM."
   ]
  },
  {
   "cell_type": "code",
   "execution_count": 1,
   "metadata": {},
   "outputs": [],
   "source": [
    "import numpy as np\n",
    "import pandas as pd\n",
    "import matplotlib.pyplot as plt\n",
    "%matplotlib inline"
   ]
  },
  {
   "cell_type": "markdown",
   "metadata": {},
   "source": [
    "## Part I: A Regression Model\n",
    "\n",
    "In this part, please build a multilinear regression model that extracts the relationship between housing prices and other relevant variables. The training data is shown in the table below:"
   ]
  },
  {
   "cell_type": "code",
   "execution_count": 2,
   "metadata": {},
   "outputs": [
    {
     "data": {
      "text/html": [
       "<div>\n",
       "<style scoped>\n",
       "    .dataframe tbody tr th:only-of-type {\n",
       "        vertical-align: middle;\n",
       "    }\n",
       "\n",
       "    .dataframe tbody tr th {\n",
       "        vertical-align: top;\n",
       "    }\n",
       "\n",
       "    .dataframe thead th {\n",
       "        text-align: right;\n",
       "    }\n",
       "</style>\n",
       "<table border=\"1\" class=\"dataframe\">\n",
       "  <thead>\n",
       "    <tr style=\"text-align: right;\">\n",
       "      <th></th>\n",
       "      <th>YearBuilt</th>\n",
       "      <th>YearSold</th>\n",
       "      <th>Bedrooms</th>\n",
       "      <th>TotalArea</th>\n",
       "      <th>Quality</th>\n",
       "      <th>Price</th>\n",
       "    </tr>\n",
       "  </thead>\n",
       "  <tbody>\n",
       "    <tr>\n",
       "      <th>0</th>\n",
       "      <td>1974</td>\n",
       "      <td>2015</td>\n",
       "      <td>3</td>\n",
       "      <td>1500</td>\n",
       "      <td>7.5</td>\n",
       "      <td>358500</td>\n",
       "    </tr>\n",
       "    <tr>\n",
       "      <th>1</th>\n",
       "      <td>1996</td>\n",
       "      <td>2017</td>\n",
       "      <td>10</td>\n",
       "      <td>4000</td>\n",
       "      <td>6.0</td>\n",
       "      <td>452600</td>\n",
       "    </tr>\n",
       "    <tr>\n",
       "      <th>2</th>\n",
       "      <td>1968</td>\n",
       "      <td>2020</td>\n",
       "      <td>4</td>\n",
       "      <td>1700</td>\n",
       "      <td>4.0</td>\n",
       "      <td>352100</td>\n",
       "    </tr>\n",
       "    <tr>\n",
       "      <th>3</th>\n",
       "      <td>1962</td>\n",
       "      <td>2010</td>\n",
       "      <td>5</td>\n",
       "      <td>2500</td>\n",
       "      <td>5.5</td>\n",
       "      <td>341300</td>\n",
       "    </tr>\n",
       "    <tr>\n",
       "      <th>4</th>\n",
       "      <td>1960</td>\n",
       "      <td>2016</td>\n",
       "      <td>6</td>\n",
       "      <td>2000</td>\n",
       "      <td>5.0</td>\n",
       "      <td>342200</td>\n",
       "    </tr>\n",
       "  </tbody>\n",
       "</table>\n",
       "</div>"
      ],
      "text/plain": [
       "   YearBuilt  YearSold  Bedrooms  TotalArea  Quality   Price\n",
       "0       1974      2015         3       1500      7.5  358500\n",
       "1       1996      2017        10       4000      6.0  452600\n",
       "2       1968      2020         4       1700      4.0  352100\n",
       "3       1962      2010         5       2500      5.5  341300\n",
       "4       1960      2016         6       2000      5.0  342200"
      ]
     },
     "execution_count": 2,
     "metadata": {},
     "output_type": "execute_result"
    }
   ],
   "source": [
    "data1 = pd.DataFrame({\n",
    "    \"YearBuilt\": [1974, 1996, 1968, 1962, 1960],\n",
    "    \"YearSold\": [2015, 2017, 2020, 2010, 2016],\n",
    "    \"Bedrooms\": [3, 10, 4, 5, 6],\n",
    "    \"TotalArea\": [1500, 4000, 1700, 2500, 2000],\n",
    "    \"Quality\": [7.5, 6, 4, 5.5, 5],\n",
    "    \"Price\": [358500, 452600, 352100, 341300, 342200]\n",
    "})\n",
    "\n",
    "data1"
   ]
  },
  {
   "cell_type": "markdown",
   "metadata": {},
   "source": [
    "### Task 1: Data Transformation (10 pts)\n",
    "Create a new column named \"Age\" that represents the age of each house when it was sold."
   ]
  },
  {
   "cell_type": "code",
   "execution_count": 3,
   "metadata": {},
   "outputs": [],
   "source": [
    "# Your Code Here"
   ]
  },
  {
   "cell_type": "code",
   "execution_count": 4,
   "metadata": {},
   "outputs": [
    {
     "data": {
      "text/html": [
       "<div>\n",
       "<style scoped>\n",
       "    .dataframe tbody tr th:only-of-type {\n",
       "        vertical-align: middle;\n",
       "    }\n",
       "\n",
       "    .dataframe tbody tr th {\n",
       "        vertical-align: top;\n",
       "    }\n",
       "\n",
       "    .dataframe thead th {\n",
       "        text-align: right;\n",
       "    }\n",
       "</style>\n",
       "<table border=\"1\" class=\"dataframe\">\n",
       "  <thead>\n",
       "    <tr style=\"text-align: right;\">\n",
       "      <th></th>\n",
       "      <th>YearBuilt</th>\n",
       "      <th>YearSold</th>\n",
       "      <th>Bedrooms</th>\n",
       "      <th>TotalArea</th>\n",
       "      <th>Quality</th>\n",
       "      <th>Price</th>\n",
       "      <th>Age</th>\n",
       "    </tr>\n",
       "  </thead>\n",
       "  <tbody>\n",
       "    <tr>\n",
       "      <th>0</th>\n",
       "      <td>1974</td>\n",
       "      <td>2015</td>\n",
       "      <td>3</td>\n",
       "      <td>1500</td>\n",
       "      <td>7.5</td>\n",
       "      <td>358500</td>\n",
       "      <td>41</td>\n",
       "    </tr>\n",
       "    <tr>\n",
       "      <th>1</th>\n",
       "      <td>1996</td>\n",
       "      <td>2017</td>\n",
       "      <td>10</td>\n",
       "      <td>4000</td>\n",
       "      <td>6.0</td>\n",
       "      <td>452600</td>\n",
       "      <td>21</td>\n",
       "    </tr>\n",
       "    <tr>\n",
       "      <th>2</th>\n",
       "      <td>1968</td>\n",
       "      <td>2020</td>\n",
       "      <td>4</td>\n",
       "      <td>1700</td>\n",
       "      <td>4.0</td>\n",
       "      <td>352100</td>\n",
       "      <td>52</td>\n",
       "    </tr>\n",
       "    <tr>\n",
       "      <th>3</th>\n",
       "      <td>1962</td>\n",
       "      <td>2010</td>\n",
       "      <td>5</td>\n",
       "      <td>2500</td>\n",
       "      <td>5.5</td>\n",
       "      <td>341300</td>\n",
       "      <td>48</td>\n",
       "    </tr>\n",
       "    <tr>\n",
       "      <th>4</th>\n",
       "      <td>1960</td>\n",
       "      <td>2016</td>\n",
       "      <td>6</td>\n",
       "      <td>2000</td>\n",
       "      <td>5.0</td>\n",
       "      <td>342200</td>\n",
       "      <td>56</td>\n",
       "    </tr>\n",
       "  </tbody>\n",
       "</table>\n",
       "</div>"
      ],
      "text/plain": [
       "   YearBuilt  YearSold  Bedrooms  TotalArea  Quality   Price  Age\n",
       "0       1974      2015         3       1500      7.5  358500   41\n",
       "1       1996      2017        10       4000      6.0  452600   21\n",
       "2       1968      2020         4       1700      4.0  352100   52\n",
       "3       1962      2010         5       2500      5.5  341300   48\n",
       "4       1960      2016         6       2000      5.0  342200   56"
      ]
     },
     "execution_count": 4,
     "metadata": {},
     "output_type": "execute_result"
    }
   ],
   "source": [
    "data1['Age'] = data1['YearSold'] - data1['YearBuilt']\n",
    "data1"
   ]
  },
  {
   "cell_type": "markdown",
   "metadata": {},
   "source": [
    "### Task 2: Train a Multilinear Model (20 pts)\n",
    "Assume that the price can be expressed as a linear combination of age, bedrooms, total area, and quality:\n",
    "\n",
    "$Price = \\theta_0 + \\theta_1 \\cdot Age + \\theta_2 \\cdot Bedrooms + \\theta_3 \\cdot TotalArea + \\theta_4 \\cdot Quality.$\n",
    "\n",
    "Apply the normal equation to find the best values for the parameters:\n",
    "1. Construct matrix $\\textbf{X}$ and $\\textbf{y}$ (the matrices are defined in Week 6 notebook and Chapter 4 of the textbook).\n",
    "2. Calculate the parameter vector using the normal equation\n",
    "$\\theta = \\big(\\textbf{X}^T\\cdot\\textbf{X}\\big)^{-1}\\cdot\\textbf{X}^T\\cdot\\textbf{y}$"
   ]
  },
  {
   "cell_type": "code",
   "execution_count": 5,
   "metadata": {},
   "outputs": [],
   "source": [
    "# Your Code Here"
   ]
  },
  {
   "cell_type": "code",
   "execution_count": 6,
   "metadata": {},
   "outputs": [],
   "source": [
    "np.set_printoptions(suppress=True)"
   ]
  },
  {
   "cell_type": "code",
   "execution_count": 7,
   "metadata": {},
   "outputs": [
    {
     "name": "stdout",
     "output_type": "stream",
     "text": [
      "[[   1.    41.     3.  1500.     7.5]\n",
      " [   1.    21.    10.  4000.     6. ]\n",
      " [   1.    52.     4.  1700.     4. ]\n",
      " [   1.    48.     5.  2500.     5.5]\n",
      " [   1.    56.     6.  2000.     5. ]]\n"
     ]
    }
   ],
   "source": [
    "X = np.hstack([np.ones([5, 1]), data1[[\"Age\", \"Bedrooms\", \"TotalArea\", \"Quality\"]].values])\n",
    "print(X)"
   ]
  },
  {
   "cell_type": "code",
   "execution_count": 8,
   "metadata": {},
   "outputs": [
    {
     "name": "stdout",
     "output_type": "stream",
     "text": [
      "[[358500]\n",
      " [452600]\n",
      " [352100]\n",
      " [341300]\n",
      " [342200]]\n"
     ]
    }
   ],
   "source": [
    "y = data1[[\"Price\"]].values\n",
    "print(y)"
   ]
  },
  {
   "cell_type": "code",
   "execution_count": 9,
   "metadata": {},
   "outputs": [
    {
     "name": "stdout",
     "output_type": "stream",
     "text": [
      "Theta 0 to Theta 4: [[592376.38748739]\n",
      " [ -3839.25327952]\n",
      " [ 11727.19475278]\n",
      " [   -31.10898083]\n",
      " [ -8664.68213925]]\n"
     ]
    }
   ],
   "source": [
    "theta = np.linalg.inv(X.T.dot(X)).dot(X.T).dot(y)\n",
    "\n",
    "print(\"Theta 0 to Theta 4:\", theta)"
   ]
  },
  {
   "cell_type": "markdown",
   "metadata": {},
   "source": [
    "### Task 3: Make A Prediction (10 pts)\n",
    "Suppose that there is another house with the following attribute:\n",
    "- YearBuilt: 1985\n",
    "- YearSold: 2021\n",
    "- Bedrooms: 6\n",
    "- Total Area: 2500\n",
    "- Quality: 5.5\n",
    "\n",
    "Use the parameter values that you have calculated to make a prediction on its sale price."
   ]
  },
  {
   "cell_type": "code",
   "execution_count": 10,
   "metadata": {},
   "outputs": [],
   "source": [
    "# Your Code Here"
   ]
  },
  {
   "cell_type": "code",
   "execution_count": 11,
   "metadata": {},
   "outputs": [
    {
     "name": "stdout",
     "output_type": "stream",
     "text": [
      "399095.79000000004\n"
     ]
    }
   ],
   "source": [
    "theta0 = 592376.39\n",
    "theta1 = -3839.25\n",
    "theta2 = 11727.19\n",
    "theta3 = -31.11\n",
    "theta4 = -8664.68\n",
    "\n",
    "prediction = theta0 + theta1 * (2021 - 1985) + theta2 * 6 + theta3 * 2500 + theta4 * 5.5  \n",
    "print(prediction)"
   ]
  },
  {
   "cell_type": "markdown",
   "metadata": {},
   "source": [
    "## Part II: A Classification Model\n",
    "\n",
    "In this part, we will build a logistic regression model and evaluate its performance on the classifying the data. The dataset is as follows:"
   ]
  },
  {
   "cell_type": "code",
   "execution_count": 12,
   "metadata": {},
   "outputs": [
    {
     "data": {
      "text/html": [
       "<div>\n",
       "<style scoped>\n",
       "    .dataframe tbody tr th:only-of-type {\n",
       "        vertical-align: middle;\n",
       "    }\n",
       "\n",
       "    .dataframe tbody tr th {\n",
       "        vertical-align: top;\n",
       "    }\n",
       "\n",
       "    .dataframe thead th {\n",
       "        text-align: right;\n",
       "    }\n",
       "</style>\n",
       "<table border=\"1\" class=\"dataframe\">\n",
       "  <thead>\n",
       "    <tr style=\"text-align: right;\">\n",
       "      <th></th>\n",
       "      <th>x1</th>\n",
       "      <th>x2</th>\n",
       "      <th>class</th>\n",
       "    </tr>\n",
       "  </thead>\n",
       "  <tbody>\n",
       "    <tr>\n",
       "      <th>0</th>\n",
       "      <td>5.0</td>\n",
       "      <td>2.0</td>\n",
       "      <td>1</td>\n",
       "    </tr>\n",
       "    <tr>\n",
       "      <th>1</th>\n",
       "      <td>6.2</td>\n",
       "      <td>3.4</td>\n",
       "      <td>1</td>\n",
       "    </tr>\n",
       "    <tr>\n",
       "      <th>2</th>\n",
       "      <td>4.9</td>\n",
       "      <td>3.6</td>\n",
       "      <td>0</td>\n",
       "    </tr>\n",
       "    <tr>\n",
       "      <th>3</th>\n",
       "      <td>6.2</td>\n",
       "      <td>2.2</td>\n",
       "      <td>1</td>\n",
       "    </tr>\n",
       "    <tr>\n",
       "      <th>4</th>\n",
       "      <td>5.7</td>\n",
       "      <td>3.0</td>\n",
       "      <td>1</td>\n",
       "    </tr>\n",
       "    <tr>\n",
       "      <th>5</th>\n",
       "      <td>4.8</td>\n",
       "      <td>3.4</td>\n",
       "      <td>0</td>\n",
       "    </tr>\n",
       "    <tr>\n",
       "      <th>6</th>\n",
       "      <td>5.0</td>\n",
       "      <td>3.4</td>\n",
       "      <td>0</td>\n",
       "    </tr>\n",
       "  </tbody>\n",
       "</table>\n",
       "</div>"
      ],
      "text/plain": [
       "    x1   x2  class\n",
       "0  5.0  2.0      1\n",
       "1  6.2  3.4      1\n",
       "2  4.9  3.6      0\n",
       "3  6.2  2.2      1\n",
       "4  5.7  3.0      1\n",
       "5  4.8  3.4      0\n",
       "6  5.0  3.4      0"
      ]
     },
     "execution_count": 12,
     "metadata": {},
     "output_type": "execute_result"
    }
   ],
   "source": [
    "data2 = pd.DataFrame([[5.0, 2.0, 1],\n",
    "                      [6.2, 3.4, 1],\n",
    "                      [4.9, 3.6, 0],\n",
    "                      [6.2, 2.2, 1],\n",
    "                      [5.7, 3.0, 1],\n",
    "                      [4.8, 3.4, 0],\n",
    "                      [5.0, 3.4, 0]],\n",
    "                     columns=[\"x1\", \"x2\", \"class\"])\n",
    "data2"
   ]
  },
  {
   "cell_type": "markdown",
   "metadata": {},
   "source": [
    "### Task 1: Data Visualization (10 pts)\n",
    "Visualize the data as a scatter plot. Show class 0 records as green dots and class 1 records as blue dots. Display the following items:\n",
    "- Title of the plot: Distribution of the training data\n",
    "- Label for x axis: x1\n",
    "- Label for y axis: x2\n",
    "- Legend"
   ]
  },
  {
   "cell_type": "code",
   "execution_count": 13,
   "metadata": {},
   "outputs": [],
   "source": [
    "# Your Code Here"
   ]
  },
  {
   "cell_type": "code",
   "execution_count": 14,
   "metadata": {},
   "outputs": [
    {
     "data": {
      "text/plain": [
       "<matplotlib.legend.Legend at 0x1f6efad1880>"
      ]
     },
     "execution_count": 14,
     "metadata": {},
     "output_type": "execute_result"
    },
    {
     "data": {
      "image/png": "[encoded data removed]",
      "text/plain": [
       "<Figure size 432x288 with 1 Axes>"
      ]
     },
     "metadata": {
      "needs_background": "light"
     },
     "output_type": "display_data"
    }
   ],
   "source": [
    "index_class1 = (data2['class'] == 1)\n",
    "index_class0 = (data2['class'] == 0)\n",
    "plt.scatter(data2.loc[index_class1, 'x1'],\n",
    "            data2.loc[index_class1, 'x2'],\n",
    "            c='blue',\n",
    "            label='class 1')\n",
    "\n",
    "plt.scatter(data2.loc[index_class0, 'x1'],\n",
    "            data2.loc[index_class0, 'x2'],\n",
    "            c='green',\n",
    "            label='class 0')\n",
    "\n",
    "plt.title(\"Distribution of the training data\")\n",
    "plt.xlabel(\"x1\")\n",
    "plt.ylabel(\"x2\")\n",
    "plt.legend()"
   ]
  },
  {
   "cell_type": "markdown",
   "metadata": {},
   "source": [
    "### Task 2: Apply A Logistic Regression Model (10 pts)\n",
    "\n",
    "Suppose that you are given a logistic regression model with explicity paramter values:\n",
    "\n",
    "$p = \\sigma(\\textbf{x}\\cdot\\theta^T).$\n",
    "\n",
    "where\n",
    "- p: the probability that the point belongs to class 1.\n",
    "- $\\textbf{x} = (1, x_1, x_2)$.\n",
    "- $\\theta = (\\theta_0, \\theta_1, \\theta_2) = (-2.15, 0.92, -0.82)$.\n",
    "- $\\sigma(t) = \\frac{1}{1+e^{-t}}$\n",
    "\n",
    "Find the model's prediction on the following test set:"
   ]
  },
  {
   "cell_type": "code",
   "execution_count": 15,
   "metadata": {},
   "outputs": [
    {
     "data": {
      "text/html": [
       "<div>\n",
       "<style scoped>\n",
       "    .dataframe tbody tr th:only-of-type {\n",
       "        vertical-align: middle;\n",
       "    }\n",
       "\n",
       "    .dataframe tbody tr th {\n",
       "        vertical-align: top;\n",
       "    }\n",
       "\n",
       "    .dataframe thead th {\n",
       "        text-align: right;\n",
       "    }\n",
       "</style>\n",
       "<table border=\"1\" class=\"dataframe\">\n",
       "  <thead>\n",
       "    <tr style=\"text-align: right;\">\n",
       "      <th></th>\n",
       "      <th>x1</th>\n",
       "      <th>x2</th>\n",
       "      <th>class</th>\n",
       "    </tr>\n",
       "  </thead>\n",
       "  <tbody>\n",
       "    <tr>\n",
       "      <th>0</th>\n",
       "      <td>5.1</td>\n",
       "      <td>3.4</td>\n",
       "      <td>0</td>\n",
       "    </tr>\n",
       "    <tr>\n",
       "      <th>1</th>\n",
       "      <td>6.5</td>\n",
       "      <td>2.8</td>\n",
       "      <td>1</td>\n",
       "    </tr>\n",
       "    <tr>\n",
       "      <th>2</th>\n",
       "      <td>5.8</td>\n",
       "      <td>2.7</td>\n",
       "      <td>1</td>\n",
       "    </tr>\n",
       "    <tr>\n",
       "      <th>3</th>\n",
       "      <td>4.6</td>\n",
       "      <td>3.1</td>\n",
       "      <td>0</td>\n",
       "    </tr>\n",
       "  </tbody>\n",
       "</table>\n",
       "</div>"
      ],
      "text/plain": [
       "    x1   x2  class\n",
       "0  5.1  3.4      0\n",
       "1  6.5  2.8      1\n",
       "2  5.8  2.7      1\n",
       "3  4.6  3.1      0"
      ]
     },
     "execution_count": 15,
     "metadata": {},
     "output_type": "execute_result"
    }
   ],
   "source": [
    "data3 = pd.DataFrame([[5.1, 3.4, 0],\n",
    "                      [6.5, 2.8, 1],\n",
    "                      [5.8, 2.7, 1],\n",
    "                      [4.6, 3.1, 0]],\n",
    "                     columns=[\"x1\", \"x2\", \"class\"])\n",
    "data3"
   ]
  },
  {
   "cell_type": "code",
   "execution_count": 16,
   "metadata": {},
   "outputs": [],
   "source": [
    "# Your Code Here"
   ]
  },
  {
   "cell_type": "code",
   "execution_count": 17,
   "metadata": {},
   "outputs": [
    {
     "name": "stdout",
     "output_type": "stream",
     "text": [
      "Theta:  [-2.15  0.92 -0.82] \n",
      "\n",
      "\n",
      "x:  [[1.  5.1 3.4]\n",
      " [1.  6.5 2.8]\n",
      " [1.  5.8 2.7]\n",
      " [1.  4.6 3.1]] \n",
      "\n",
      "\n",
      "t:  [-0.246  1.534  0.972 -0.46 ] \n",
      "\n",
      "\n",
      "y:  [0.43880828 0.82259081 0.72551796 0.38698582] \n",
      "\n",
      "\n",
      "Predictions:  [0, 1, 1, 0]\n"
     ]
    }
   ],
   "source": [
    "theta = np.array([-2.15, 0.92, -0.82])\n",
    "\n",
    "x = np.hstack([np.ones([4,1]), data3.loc[:, ['x1', 'x2']]])\n",
    "\n",
    "t = x.dot(theta)\n",
    "\n",
    "y = 1 / (1 + np.e ** (-t))\n",
    "\n",
    "predictions = []\n",
    "\n",
    "for i in y:\n",
    "    if i >= 0.5:\n",
    "        prediction = 1\n",
    "    else:\n",
    "        prediction = 0\n",
    "    predictions.append(prediction)\n",
    "    \n",
    "    \n",
    "print(\"Theta: \",theta, \"\\n\\n\")\n",
    "print(\"x: \", x, \"\\n\\n\")\n",
    "print(\"t: \", t, \"\\n\\n\")\n",
    "print(\"y: \", y, \"\\n\\n\")    \n",
    "print(\"Predictions: \", predictions)"
   ]
  },
  {
   "cell_type": "markdown",
   "metadata": {},
   "source": [
    "### Task 3: Model Evaluation (40 pts)\n",
    "Calculate the following model metrics regarding the performance on the test set:\n",
    "- classification accuracy\n",
    "- precision score\n",
    "- recall score\n",
    "- F-1 score"
   ]
  },
  {
   "cell_type": "code",
   "execution_count": 18,
   "metadata": {},
   "outputs": [],
   "source": [
    "# Your Code Here"
   ]
  },
  {
   "cell_type": "code",
   "execution_count": 19,
   "metadata": {},
   "outputs": [
    {
     "name": "stdout",
     "output_type": "stream",
     "text": [
      "[0 1 1 0]\n",
      "[0 1 1 0]\n",
      "Accuracy:  1.0\n"
     ]
    }
   ],
   "source": [
    "# Classification Accuracy\n",
    "array1 = np.array(data3['class'])\n",
    "array2 = np.array(predictions)\n",
    "print(array1)\n",
    "print(array2)\n",
    "\n",
    "count = 0\n",
    "for i in range(len(array1)):\n",
    "    actual = array1[i]\n",
    "    pred = array2[i]\n",
    "    if actual == pred:\n",
    "        count = count + 1\n",
    "\n",
    "accuracy = count / len(array1)\n",
    "print(\"Accuracy: \", accuracy)"
   ]
  },
  {
   "cell_type": "code",
   "execution_count": 20,
   "metadata": {},
   "outputs": [
    {
     "name": "stdout",
     "output_type": "stream",
     "text": [
      "True Positives:  2\n",
      "False Positives:  0\n",
      "1.0\n"
     ]
    }
   ],
   "source": [
    "# Precision Score\n",
    "num_true_positives = 0\n",
    "for i in range(len(array1)):\n",
    "    label = array1[i]\n",
    "    pred = array2[i]\n",
    "    if label == 1 and pred == 1 :\n",
    "        num_true_positives = num_true_positives + 1\n",
    "print(\"True Positives: \", num_true_positives)\n",
    "\n",
    "num_false_positives = 0\n",
    "for i in range(len(array1)):\n",
    "    label = array1[i]\n",
    "    pred = array2[i]\n",
    "    if label == 0 and pred == 1:\n",
    "        num_false_positives = num_false_positives + 1\n",
    "print(\"False Positives: \", num_false_positives)\n",
    "\n",
    "precision = num_true_positives / (num_true_positives + num_false_positives)\n",
    "print(precision)"
   ]
  },
  {
   "cell_type": "code",
   "execution_count": 21,
   "metadata": {},
   "outputs": [],
   "source": [
    "# Recall Score"
   ]
  },
  {
   "cell_type": "code",
   "execution_count": 22,
   "metadata": {},
   "outputs": [
    {
     "name": "stdout",
     "output_type": "stream",
     "text": [
      "True Positives:  2\n",
      "False Negatives:  0\n",
      "Recall:  1.0\n"
     ]
    }
   ],
   "source": [
    "num_false_negatives = 0\n",
    "for i in range(len(array1)):\n",
    "    label = array1[i]\n",
    "    pred = array2[i]\n",
    "    if label == 1 and pred == 0:\n",
    "        num_false_negatives = num_false_negatives + 1\n",
    "\n",
    "print(\"True Positives: \", num_true_positives)\n",
    "print(\"False Negatives: \", num_false_negatives)\n",
    "recall = num_true_positives / (num_true_positives + num_false_negatives)\n",
    "print(\"Recall: \", recall)"
   ]
  },
  {
   "cell_type": "code",
   "execution_count": 23,
   "metadata": {},
   "outputs": [],
   "source": [
    "# F-1 Score"
   ]
  },
  {
   "cell_type": "code",
   "execution_count": 24,
   "metadata": {},
   "outputs": [
    {
     "name": "stdout",
     "output_type": "stream",
     "text": [
      "F-1 Score:  1.0\n"
     ]
    }
   ],
   "source": [
    "f1 = 2 / (1 / precision + 1 / recall)\n",
    "print(\"F-1 Score: \", f1)"
   ]
  },
  {
   "cell_type": "code",
   "execution_count": null,
   "metadata": {},
   "outputs": [],
   "source": []
  }
 ],
 "metadata": {
  "kernelspec": {
   "display_name": "Python 3 (ipykernel)",
   "language": "python",
   "name": "python3"
  },
  "language_info": {
   "codemirror_mode": {
    "name": "ipython",
    "version": 3
   },
   "file_extension": ".py",
   "mimetype": "text/x-python",
   "name": "python",
   "nbconvert_exporter": "python",
   "pygments_lexer": "ipython3",
   "version": "3.9.12"
  }
 },
 "nbformat": 4,
 "nbformat_minor": 4
}
